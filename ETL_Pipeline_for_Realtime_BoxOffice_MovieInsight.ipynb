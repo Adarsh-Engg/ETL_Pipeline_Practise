{
 "cells": [
  {
   "cell_type": "code",
   "execution_count": 41,
   "id": "92be5656-2ae1-4df7-9d5a-4ad66b9dbc08",
   "metadata": {},
   "outputs": [],
   "source": [
    "#apikey=55989f0a for\n",
    "#https://www.omdbapi.com/apikey.aspx\n",
    "\n",
    "\n",
    "\n",
    "\n",
    "\n",
    "#https://www.rottentomatoes.com/browse/movies_in_theaters\n",
    "#https://www.boxofficemojo.com/weekend/\n",
    "\n",
    "\n",
    "\n"
   ]
  },
  {
   "cell_type": "code",
   "execution_count": 43,
   "id": "28705f6a-7f2a-48c4-9863-a6f134b41ea9",
   "metadata": {},
   "outputs": [
    {
     "name": "stdout",
     "output_type": "stream",
     "text": [
      "<Response [200]>\n"
     ]
    }
   ],
   "source": [
    "import requests\n",
    "from bs4 import BeautifulSoup\n",
    "\n",
    " \n",
    "\n",
    "url = \"https://www.rottentomatoes.com/browse/movies_in_theaters\"\n",
    "\n",
    "response=requests.get(url)\n",
    "\n",
    "print(response)"
   ]
  },
  {
   "cell_type": "code",
   "execution_count": 5,
   "id": "eb8b49c9-791d-4f40-94f5-af2999383dbd",
   "metadata": {},
   "outputs": [
    {
     "name": "stdout",
     "output_type": "stream",
     "text": [
      " Fetching Latest Movies from Rotten Tomatoes...\n",
      " Fetched 13 movies from Rotten Tomatoes!\n",
      "\n",
      "['Detective_Chinatown_1900', 'Hit_N_Fun', 'Gi_Dle_World_Tour_Idol_In_Cinemas', 'Round_The_Decay', 'Ponman', 'Thudarum', 'No_Other_Land', 'Screamboat', 'Picnic_At_Hanging_Rock', 'Marcello_Mio', 'Time_Passages', 'Majhail', 'When_We_Free_The_World']\n"
     ]
    }
   ],
   "source": [
    "import requests\n",
    "\n",
    "from bs4 import BeautifulSoup\n",
    "\n",
    " \n",
    "\n",
    "def fetch_movies_from_rotten_tomatoes():\n",
    "\n",
    "    print(\" Fetching Latest Movies from Rotten Tomatoes...\")\n",
    "\n",
    "    url = \"https://www.rottentomatoes.com/browse/movies_in_theaters\"\n",
    "\n",
    " \n",
    "\n",
    "    headers = {\n",
    "\n",
    "        \"User-Agent\": \"Mozilla/5.0\"  # Mimic a real browser\n",
    "\n",
    "    }\n",
    "\n",
    " \n",
    "\n",
    "    try:\n",
    "\n",
    "        response = requests.get(url, headers=headers)\n",
    "\n",
    "        #response.raise_for_status()  \n",
    "\n",
    "        soup = BeautifulSoup(response.content, \"html.parser\")\n",
    "\n",
    "        #print(soup)\n",
    "        titles = []\n",
    "\n",
    "        for i in soup.select('a.js-tile-link'):\n",
    "\n",
    "            title = i.get(\"href\").split(\"/\")[-1].replace(\"-\", \" \").title()\n",
    "\n",
    "            titles.append(title)\n",
    "\n",
    " \n",
    "\n",
    "        print(f\" Fetched {len(titles)} movies from Rotten Tomatoes!\\n\")\n",
    "\n",
    "        return titles[:30]  # Limit to 30 latest movies\n",
    "\n",
    " \n",
    "\n",
    "    except requests.exceptions.RequestException as e:\n",
    "\n",
    "        print(f\" Error while scraping Rotten Tomatoes: {e}\")\n",
    "\n",
    "        return []\n",
    "\n",
    " \n",
    "\n",
    "# Test the function\n",
    "\n",
    "titles = fetch_movies_from_rotten_tomatoes()\n",
    "\n",
    "print(titles)\n"
   ]
  },
  {
   "cell_type": "code",
   "execution_count": null,
   "id": "699b3bd5-da6d-41ca-8ece-196c9aa7b510",
   "metadata": {},
   "outputs": [],
   "source": []
  },
  {
   "cell_type": "code",
   "execution_count": 7,
   "id": "71412be0-68e2-4d2a-aad0-c33159a818fb",
   "metadata": {},
   "outputs": [
    {
     "name": "stdout",
     "output_type": "stream",
     "text": [
      "Requirement already satisfied: emoji in c:\\users\\adars\\anaconda3\\lib\\site-packages (2.14.1)\n",
      "Note: you may need to restart the kernel to use updated packages.\n"
     ]
    }
   ],
   "source": [
    "pip install emoji\n"
   ]
  },
  {
   "cell_type": "code",
   "execution_count": 8,
   "id": "d332e945-d028-4b32-b1f8-e207317d8abf",
   "metadata": {},
   "outputs": [
    {
     "name": "stdout",
     "output_type": "stream",
     "text": [
      "Success🚀\n"
     ]
    }
   ],
   "source": [
    "import emoji\n",
    "\n",
    "print(emoji.emojize(\"Success:rocket:\"))"
   ]
  },
  {
   "cell_type": "code",
   "execution_count": 9,
   "id": "62524d41-a92e-4027-9856-dc1da292b1cf",
   "metadata": {},
   "outputs": [
    {
     "name": "stdout",
     "output_type": "stream",
     "text": [
      "Success✅\n"
     ]
    }
   ],
   "source": [
    "import emoji\n",
    "\n",
    "print(emoji.emojize(\"Success:check_mark_button:\"))"
   ]
  },
  {
   "cell_type": "code",
   "execution_count": 10,
   "id": "ec4d0d65-af7c-4ff8-b187-509f62c211a4",
   "metadata": {},
   "outputs": [
    {
     "name": "stdout",
     "output_type": "stream",
     "text": [
      "lol 🤣\n"
     ]
    }
   ],
   "source": [
    "print( \"lol 🤣\")"
   ]
  },
  {
   "cell_type": "code",
   "execution_count": null,
   "id": "56280e5c-8587-41c8-8d8a-f84030f365c6",
   "metadata": {},
   "outputs": [],
   "source": []
  },
  {
   "cell_type": "code",
   "execution_count": 12,
   "id": "d1237d91-0b66-461a-8a6b-12c5a4fdec6d",
   "metadata": {},
   "outputs": [
    {
     "name": "stdout",
     "output_type": "stream",
     "text": [
      "{'Title': 'Interstellar', 'Year': '2014', 'Rated': 'PG-13', 'Released': '07 Nov 2014', 'Runtime': '169 min', 'Genre': 'Adventure, Drama, Sci-Fi', 'Director': 'Christopher Nolan', 'Writer': 'Jonathan Nolan, Christopher Nolan', 'Actors': 'Matthew McConaughey, Anne Hathaway, Jessica Chastain', 'Plot': 'When Earth becomes uninhabitable in the future, a farmer and ex-NASA pilot, Joseph Cooper, is tasked to pilot a spacecraft, along with a team of researchers, to find a new planet for humans.', 'Language': 'English', 'Country': 'United States, United Kingdom, Canada', 'Awards': 'Won 1 Oscar. 44 wins & 148 nominations total', 'Poster': 'https://m.media-amazon.com/images/M/MV5BYzdjMDAxZGItMjI2My00ODA1LTlkNzItOWFjMDU5ZDJlYWY3XkEyXkFqcGc@._V1_SX300.jpg', 'Ratings': [{'Source': 'Internet Movie Database', 'Value': '8.7/10'}, {'Source': 'Rotten Tomatoes', 'Value': '73%'}, {'Source': 'Metacritic', 'Value': '74/100'}], 'Metascore': '74', 'imdbRating': '8.7', 'imdbVotes': '2,259,078', 'imdbID': 'tt0816692', 'Type': 'movie', 'DVD': 'N/A', 'BoxOffice': '$203,227,580', 'Production': 'N/A', 'Website': 'N/A', 'Response': 'True'}\n"
     ]
    }
   ],
   "source": [
    "import json\n",
    "\n",
    "# API URL (Replace 'interstellar' with any movie title)\n",
    "url = \"https://www.omdbapi.com/?t=interstellar&apikey=55989f0a\"\n",
    "\n",
    "# Send request to OMDb API\n",
    "response = requests.get(url)\n",
    "\n",
    "\n",
    "if response.status_code == 200:\n",
    "    movie_data = response.json()  # Convert to JSON format\n",
    "    print(movie_data)\n",
    "else:\n",
    "    print(f\" Error {response.status_code}: {response.text}\")"
   ]
  },
  {
   "cell_type": "markdown",
   "id": "88e68c3f-1cc8-462c-aed5-e7f692d14bb7",
   "metadata": {
    "scrolled": true
   },
   "source": [
    "for i,v in movie_data.items():\n",
    "    url = f\"http://www.omdbapi.com/?t={i}&apikey=55989f0\"\n",
    "    print(i,v)"
   ]
  },
  {
   "cell_type": "code",
   "execution_count": 41,
   "id": "fdd7997c-f02a-4b4a-9686-2e2fd2f98f4f",
   "metadata": {},
   "outputs": [
    {
     "ename": "SyntaxError",
     "evalue": "expected 'except' or 'finally' block (510086604.py, line 40)",
     "output_type": "error",
     "traceback": [
      "\u001b[1;36m  Cell \u001b[1;32mIn[41], line 40\u001b[1;36m\u001b[0m\n\u001b[1;33m    except requests.exceptions.RequestException as e:\u001b[0m\n\u001b[1;37m                                                     ^\u001b[0m\n\u001b[1;31mSyntaxError\u001b[0m\u001b[1;31m:\u001b[0m expected 'except' or 'finally' block\n"
     ]
    }
   ],
   "source": [
    "import json\n",
    "\n",
    "url = \"https://www.omdbapi.com/?t=babygirl&apikey=55989f0a\"\n",
    "\n",
    "# Send request to OMDb API\n",
    "\n",
    "response = requests.get(url)\n",
    "\n",
    "if response.status_code == 200:\n",
    "\n",
    "    movie_data = response.json()  # Convert to JSON format\n",
    "\n",
    "    print(movie_data)\n",
    "\n",
    "    for i in titles:\n",
    "\n",
    "        url = f\"http://www.omdbapi.com/?t={babygirl}&apikey=55989f0a\"\n",
    "        try:\n",
    "\n",
    "            response = requests.get(url)\n",
    "\n",
    "#             response.raise_for_status()\n",
    "\n",
    " \n",
    "\n",
    "            data = response.json()\n",
    "\n",
    " \n",
    "\n",
    "            if data.get(\"Response\") == \"True\":\n",
    "\n",
    "                movies.append(data)\n",
    "\n",
    "            else:\n",
    "\n",
    "                print(f\" Movie not found: {i}\")\n",
    "\n",
    " \n",
    "\n",
    "except requests.exceptions.RequestException as e:\n",
    "    print(f\" Request Error for {i}: {e}\")\n",
    "            \n",
    "\n",
    " \n",
    "\n",
    "print(f\" Fetched {len(movies)} movies successfully!\\n\")\n",
    "\n",
    "return movies\n",
    "\n",
    "extract_movies(titles)"
   ]
  },
  {
   "cell_type": "code",
   "execution_count": 45,
   "id": "ca27442c-97f9-4e1c-89b4-a784e6aff0f3",
   "metadata": {},
   "outputs": [
    {
     "ename": "NameError",
     "evalue": "name 'movies' is not defined",
     "output_type": "error",
     "traceback": [
      "\u001b[1;31m---------------------------------------------------------------------------\u001b[0m",
      "\u001b[1;31mNameError\u001b[0m                                 Traceback (most recent call last)",
      "Cell \u001b[1;32mIn[45], line 15\u001b[0m\n\u001b[0;32m      9\u001b[0m data \u001b[38;5;241m=\u001b[39m response\u001b[38;5;241m.\u001b[39mjson()\n\u001b[0;32m     13\u001b[0m \u001b[38;5;28;01mif\u001b[39;00m data\u001b[38;5;241m.\u001b[39mget(\u001b[38;5;124m\"\u001b[39m\u001b[38;5;124mResponse\u001b[39m\u001b[38;5;124m\"\u001b[39m) \u001b[38;5;241m==\u001b[39m \u001b[38;5;124m\"\u001b[39m\u001b[38;5;124mTrue\u001b[39m\u001b[38;5;124m\"\u001b[39m:\n\u001b[1;32m---> 15\u001b[0m     movies\u001b[38;5;241m.\u001b[39mappend(data)\n\u001b[0;32m     17\u001b[0m \u001b[38;5;28;01melse\u001b[39;00m:\n\u001b[0;32m     19\u001b[0m     \u001b[38;5;28mprint\u001b[39m(\u001b[38;5;124mf\u001b[39m\u001b[38;5;124m\"\u001b[39m\u001b[38;5;124m Movie not found: \u001b[39m\u001b[38;5;132;01m{\u001b[39;00mi\u001b[38;5;132;01m}\u001b[39;00m\u001b[38;5;124m\"\u001b[39m)\n",
      "\u001b[1;31mNameError\u001b[0m: name 'movies' is not defined"
     ]
    }
   ],
   "source": []
  },
  {
   "cell_type": "code",
   "execution_count": 45,
   "id": "1525aa57-265a-436e-9ca8-f10535112a29",
   "metadata": {},
   "outputs": [
    {
     "name": "stdout",
     "output_type": "stream",
     "text": [
      "Fetched 3 movies successfully!\n",
      "\n",
      "[{'Title': 'Inception', 'Year': '2010', 'Rated': 'PG-13', 'Released': '16 Jul 2010', 'Runtime': '148 min', 'Genre': 'Action, Adventure, Sci-Fi', 'Director': 'Christopher Nolan', 'Writer': 'Christopher Nolan', 'Actors': 'Leonardo DiCaprio, Joseph Gordon-Levitt, Elliot Page', 'Plot': 'A thief who steals corporate secrets through the use of dream-sharing technology is given the inverse task of planting an idea into the mind of a C.E.O., but his tragic past may doom the project and his team to disaster.', 'Language': 'English, Japanese, French', 'Country': 'United States, United Kingdom', 'Awards': 'Won 4 Oscars. 159 wins & 220 nominations total', 'Poster': 'https://m.media-amazon.com/images/M/MV5BMjAxMzY3NjcxNF5BMl5BanBnXkFtZTcwNTI5OTM0Mw@@._V1_SX300.jpg', 'Ratings': [{'Source': 'Internet Movie Database', 'Value': '8.8/10'}, {'Source': 'Rotten Tomatoes', 'Value': '87%'}, {'Source': 'Metacritic', 'Value': '74/100'}], 'Metascore': '74', 'imdbRating': '8.8', 'imdbVotes': '2,645,456', 'imdbID': 'tt1375666', 'Type': 'movie', 'DVD': 'N/A', 'BoxOffice': '$292,587,330', 'Production': 'N/A', 'Website': 'N/A', 'Response': 'True'}, {'Title': 'Titanic', 'Year': '1997', 'Rated': 'PG-13', 'Released': '19 Dec 1997', 'Runtime': '194 min', 'Genre': 'Drama, Romance', 'Director': 'James Cameron', 'Writer': 'James Cameron', 'Actors': 'Leonardo DiCaprio, Kate Winslet, Billy Zane', 'Plot': 'A seventeen-year-old aristocrat falls in love with a kind but poor artist aboard the luxurious, ill-fated R.M.S. Titanic.', 'Language': 'English, Swedish, Italian, French', 'Country': 'United States, Mexico', 'Awards': 'Won 11 Oscars. 126 wins & 83 nominations total', 'Poster': 'https://m.media-amazon.com/images/M/MV5BYzYyN2FiZmUtYWYzMy00MzViLWJkZTMtOGY1ZjgzNWMwN2YxXkEyXkFqcGc@._V1_SX300.jpg', 'Ratings': [{'Source': 'Internet Movie Database', 'Value': '7.9/10'}, {'Source': 'Rotten Tomatoes', 'Value': '88%'}, {'Source': 'Metacritic', 'Value': '75/100'}], 'Metascore': '75', 'imdbRating': '7.9', 'imdbVotes': '1,322,762', 'imdbID': 'tt0120338', 'Type': 'movie', 'DVD': 'N/A', 'BoxOffice': '$674,292,608', 'Production': 'N/A', 'Website': 'N/A', 'Response': 'True'}, {'Title': 'Interstellar', 'Year': '2014', 'Rated': 'PG-13', 'Released': '07 Nov 2014', 'Runtime': '169 min', 'Genre': 'Adventure, Drama, Sci-Fi', 'Director': 'Christopher Nolan', 'Writer': 'Jonathan Nolan, Christopher Nolan', 'Actors': 'Matthew McConaughey, Anne Hathaway, Jessica Chastain', 'Plot': 'When Earth becomes uninhabitable in the future, a farmer and ex-NASA pilot, Joseph Cooper, is tasked to pilot a spacecraft, along with a team of researchers, to find a new planet for humans.', 'Language': 'English', 'Country': 'United States, United Kingdom, Canada', 'Awards': 'Won 1 Oscar. 44 wins & 148 nominations total', 'Poster': 'https://m.media-amazon.com/images/M/MV5BYzdjMDAxZGItMjI2My00ODA1LTlkNzItOWFjMDU5ZDJlYWY3XkEyXkFqcGc@._V1_SX300.jpg', 'Ratings': [{'Source': 'Internet Movie Database', 'Value': '8.7/10'}, {'Source': 'Rotten Tomatoes', 'Value': '73%'}, {'Source': 'Metacritic', 'Value': '74/100'}], 'Metascore': '74', 'imdbRating': '8.7', 'imdbVotes': '2,259,078', 'imdbID': 'tt0816692', 'Type': 'movie', 'DVD': 'N/A', 'BoxOffice': '$203,227,580', 'Production': 'N/A', 'Website': 'N/A', 'Response': 'True'}]\n"
     ]
    }
   ],
   "source": [
    "import requests\n",
    "\n",
    "def extract_movies(titles):\n",
    "    movies = []\n",
    "\n",
    "    for i in titles:\n",
    "        try:\n",
    "            url = f\"https://www.omdbapi.com/?t={i}&apikey=55989f0a\"  # URL with API Keys\n",
    "            response = requests.get(url)\n",
    "            \n",
    "            response.raise_for_status()  # Raises an HTTP error if the request failed\n",
    "\n",
    "            data = response.json()\n",
    "\n",
    "            if data.get(\"Response\") == \"True\":\n",
    "                movies.append(data)\n",
    "            else:\n",
    "                print(f\"Movie not found: {i}\")\n",
    "\n",
    "        except requests.exceptions.RequestException as e:\n",
    "            print(f\"Request Error for {i}: {e}\")\n",
    "\n",
    "    print(f\"Fetched {len(movies)} movies successfully!\\n\")\n",
    "    return movies\n",
    "# Example usage\n",
    "titles = [\"Inception\", \"Titanic\", \"Interstellar\"]\n",
    "movies_data = extract_movies(titles)\n",
    "print(movies_data)\n",
    "\n",
    "\n",
    "\n"
   ]
  },
  {
   "cell_type": "code",
   "execution_count": null,
   "id": "3aea894a-c2c7-4b22-b0e8-bea6639ffca3",
   "metadata": {},
   "outputs": [],
   "source": []
  },
  {
   "cell_type": "code",
   "execution_count": null,
   "id": "9ad8482f-f5ad-43bf-9785-9e2d7844c9cd",
   "metadata": {},
   "outputs": [],
   "source": []
  }
 ],
 "metadata": {
  "kernelspec": {
   "display_name": "Python 3 (ipykernel)",
   "language": "python",
   "name": "python3"
  },
  "language_info": {
   "codemirror_mode": {
    "name": "ipython",
    "version": 3
   },
   "file_extension": ".py",
   "mimetype": "text/x-python",
   "name": "python",
   "nbconvert_exporter": "python",
   "pygments_lexer": "ipython3",
   "version": "3.12.7"
  }
 },
 "nbformat": 4,
 "nbformat_minor": 5
}
